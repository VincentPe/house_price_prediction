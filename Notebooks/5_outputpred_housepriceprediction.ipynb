{
 "cells": [
  {
   "cell_type": "code",
   "execution_count": 1,
   "metadata": {},
   "outputs": [],
   "source": [
    "from functions import *\n",
    "from settings import *\n",
    "from pipeline import *\n",
    "\n",
    "%store -r __RequiredPackages\n",
    "%store -r __JupyterOptions"
   ]
  },
  {
   "cell_type": "code",
   "execution_count": 10,
   "metadata": {},
   "outputs": [],
   "source": [
    "from sklearn.linear_model import LinearRegression, Ridge, Lasso, ElasticNet"
   ]
  },
  {
   "cell_type": "code",
   "execution_count": 2,
   "metadata": {},
   "outputs": [],
   "source": [
    "__RequiredPackages"
   ]
  },
  {
   "cell_type": "code",
   "execution_count": 3,
   "metadata": {},
   "outputs": [
    {
     "name": "stdout",
     "output_type": "stream",
     "text": [
      "Populating the interactive namespace from numpy and matplotlib\n"
     ]
    }
   ],
   "source": [
    "__JupyterOptions"
   ]
  },
  {
   "cell_type": "code",
   "execution_count": 4,
   "metadata": {},
   "outputs": [],
   "source": [
    "# Import data\n",
    "data = pd.read_csv('train.csv')\n",
    "test = pd.read_csv('test.csv')"
   ]
  },
  {
   "cell_type": "code",
   "execution_count": 5,
   "metadata": {},
   "outputs": [],
   "source": [
    "# Initiate prediction df\n",
    "preds_df = pd.DataFrame({'Id': test['Id'], 'SalePrice': np.repeat(0, len(test['Id']))})"
   ]
  },
  {
   "cell_type": "code",
   "execution_count": 6,
   "metadata": {},
   "outputs": [],
   "source": [
    "# Standard preprocessing\n",
    "data = standard_preprocessing_function(data, NA_means_not_there_cols, scale_cont_cols)\n",
    "test = standard_preprocessing_function(test, NA_means_not_there_cols, scale_cont_cols, train=False)"
   ]
  },
  {
   "cell_type": "code",
   "execution_count": 8,
   "metadata": {},
   "outputs": [],
   "source": [
    "# Shuffle rows\n",
    "#data = data.sample(frac=1)\n",
    "\n",
    "# Seperate target and predictos\n",
    "X = data.drop(target, axis=1)\n",
    "y = data[target]\n",
    "\n",
    "# Transform predictors\n",
    "prepper = leakage_preventive_preprocessing_function(target, cont_impute_cols, cat_impute_cols, mean_enc_cols, \n",
    "                                                    square_features, keep_features)\n",
    "X = prepper.fit_transform(X, y)\n",
    "test = prepper.transform(test)"
   ]
  },
  {
   "cell_type": "code",
   "execution_count": null,
   "metadata": {},
   "outputs": [],
   "source": [
    "# # Seperate target and predictos\n",
    "# X = data.drop(target, axis=1)\n",
    "# y = data[target]\n",
    "\n",
    "# X_train, X_test, y_train, y_test = train_test_split(X, y, random_state=0)\n",
    "\n",
    "# # Transform predictors\n",
    "# prepper = leakage_preventive_preprocessing_function(target, cont_impute_cols, cat_impute_cols, mean_enc_cols, \n",
    "#                                                     square_features, keep_features)\n",
    "# X_train = prepper.fit_transform(X_train, y_train)\n",
    "# X_test = prepper.transform(X_test)\n",
    "\n",
    "# GBRmodel = GradientBoostingRegressor(learning_rate=0.075,\n",
    "#                                   max_depth=4,\n",
    "#                                   min_samples_split=16,\n",
    "#                                   max_features=5,\n",
    "#                                   subsample=0.75,\n",
    "#                                   n_estimators=200,\n",
    "#                                   random_state=dev_seed)\n",
    "\n",
    "# ridgemodel = Ridge(alpha=4, random_state=dev_seed)\n",
    "\n",
    "# RFmodel = RandomForestRegressor(n_estimators=100, max_depth=14, min_samples_split=4, max_features=5,\n",
    "#                                 max_samples=0.99, random_state=dev_seed, n_jobs=n_jobs)\n",
    "\n",
    "# SVmodel = SVR(kernel = 'linear', tol = 0.0000001, C = 0.1, epsilon = 0.1)\n",
    "\n",
    "# GBRmodel = GBRmodel.fit(X_train[keep_features], y_train)\n",
    "# GBRpreds = GBRmodel.predict(X_test[keep_features])\n",
    "\n",
    "# ridgemodel = ridgemodel.fit(X_train, y_train)\n",
    "# ridgepreds = ridgemodel.predict(X_test)\n",
    "\n",
    "# # RFmodel = RFmodel.fit(X_train[keep_features], y_train)\n",
    "# # RFpreds = RFmodel.predict(X_test[keep_features])\n",
    "\n",
    "# SVmodel = SVmodel.fit(X_train, y_train)\n",
    "# SVpreds = SVmodel.predict(X_test)\n",
    "\n",
    "# final_preds = np.sum([0.15*ridgepreds, 0.6*GBRpreds, 0.25*SVpreds], axis=0)\n",
    "\n",
    "# np.sqrt(mean_squared_error(y_test, final_preds))"
   ]
  },
  {
   "cell_type": "code",
   "execution_count": null,
   "metadata": {},
   "outputs": [],
   "source": [
    "sns.scatterplot(y_test, preds)"
   ]
  },
  {
   "cell_type": "code",
   "execution_count": null,
   "metadata": {},
   "outputs": [],
   "source": [
    "sns.scatterplot(y_test, preds-y_test)"
   ]
  },
  {
   "cell_type": "code",
   "execution_count": null,
   "metadata": {},
   "outputs": [],
   "source": [
    "# Fit and predict\n",
    "model = GradientBoostingRegressor(learning_rate=0.075,\n",
    "                                  max_depth=4,\n",
    "                                  min_samples_split=16,\n",
    "                                  max_features=5,\n",
    "                                  subsample=0.75,\n",
    "                                  n_estimators=200,\n",
    "                                  random_state=dev_seed)\n",
    "\n",
    "model = model.fit(X, y)\n",
    "preds_df['SalePrice'] = np.exp(model.predict(test))"
   ]
  },
  {
   "cell_type": "code",
   "execution_count": 11,
   "metadata": {},
   "outputs": [],
   "source": [
    "GBRmodel = GradientBoostingRegressor(learning_rate=0.075,\n",
    "                                  max_depth=4,\n",
    "                                  min_samples_split=16,\n",
    "                                  max_features=5,\n",
    "                                  subsample=0.75,\n",
    "                                  n_estimators=200,\n",
    "                                  random_state=dev_seed)\n",
    "\n",
    "ridgemodel = Ridge(alpha=4, random_state=dev_seed)\n",
    "\n",
    "RFmodel = RandomForestRegressor(n_estimators=100, max_depth=14, min_samples_split=4, max_features=5,\n",
    "                                max_samples=0.99, random_state=dev_seed, n_jobs=n_jobs)\n",
    "\n",
    "SVmodel = SVR(kernel = 'linear', tol = 0.0000001, C = 0.1, epsilon = 0.1)\n",
    "\n",
    "GBRmodel = GBRmodel.fit(X[keep_features], y)\n",
    "GBRpreds = GBRmodel.predict(test[keep_features])\n",
    "\n",
    "ridgemodel = ridgemodel.fit(X, y)\n",
    "ridgepreds = ridgemodel.predict(test)\n",
    "\n",
    "SVmodel = SVmodel.fit(X, y)\n",
    "SVpreds = SVmodel.predict(test)\n",
    "\n",
    "final_preds = np.sum([0.15*ridgepreds, 0.6*GBRpreds, 0.25*SVpreds], axis=0)\n",
    "preds_df['SalePrice'] = np.exp(final_preds)"
   ]
  },
  {
   "cell_type": "code",
   "execution_count": 12,
   "metadata": {},
   "outputs": [
    {
     "data": {
      "text/plain": [
       "(1459, 2)"
      ]
     },
     "execution_count": 12,
     "metadata": {},
     "output_type": "execute_result"
    }
   ],
   "source": [
    "preds_df.shape"
   ]
  },
  {
   "cell_type": "code",
   "execution_count": 13,
   "metadata": {},
   "outputs": [
    {
     "data": {
      "text/html": [
       "<div>\n",
       "<style scoped>\n",
       "    .dataframe tbody tr th:only-of-type {\n",
       "        vertical-align: middle;\n",
       "    }\n",
       "\n",
       "    .dataframe tbody tr th {\n",
       "        vertical-align: top;\n",
       "    }\n",
       "\n",
       "    .dataframe thead th {\n",
       "        text-align: right;\n",
       "    }\n",
       "</style>\n",
       "<table border=\"1\" class=\"dataframe\">\n",
       "  <thead>\n",
       "    <tr style=\"text-align: right;\">\n",
       "      <th></th>\n",
       "      <th>Id</th>\n",
       "      <th>SalePrice</th>\n",
       "    </tr>\n",
       "  </thead>\n",
       "  <tbody>\n",
       "    <tr>\n",
       "      <th>0</th>\n",
       "      <td>1461</td>\n",
       "      <td>113918.871349</td>\n",
       "    </tr>\n",
       "    <tr>\n",
       "      <th>1</th>\n",
       "      <td>1462</td>\n",
       "      <td>157148.286596</td>\n",
       "    </tr>\n",
       "    <tr>\n",
       "      <th>2</th>\n",
       "      <td>1463</td>\n",
       "      <td>184221.401300</td>\n",
       "    </tr>\n",
       "    <tr>\n",
       "      <th>3</th>\n",
       "      <td>1464</td>\n",
       "      <td>195339.051532</td>\n",
       "    </tr>\n",
       "    <tr>\n",
       "      <th>4</th>\n",
       "      <td>1465</td>\n",
       "      <td>191606.478793</td>\n",
       "    </tr>\n",
       "  </tbody>\n",
       "</table>\n",
       "</div>"
      ],
      "text/plain": [
       "     Id      SalePrice\n",
       "0  1461  113918.871349\n",
       "1  1462  157148.286596\n",
       "2  1463  184221.401300\n",
       "3  1464  195339.051532\n",
       "4  1465  191606.478793"
      ]
     },
     "execution_count": 13,
     "metadata": {},
     "output_type": "execute_result"
    }
   ],
   "source": [
    "preds_df.head()"
   ]
  },
  {
   "cell_type": "code",
   "execution_count": 14,
   "metadata": {},
   "outputs": [],
   "source": [
    "preds_df.to_csv('output/preds_20200703_1.csv', index=False)"
   ]
  },
  {
   "cell_type": "code",
   "execution_count": null,
   "metadata": {},
   "outputs": [],
   "source": [
    "preds_df.head()"
   ]
  },
  {
   "cell_type": "code",
   "execution_count": null,
   "metadata": {},
   "outputs": [],
   "source": [
    "sns.distplot(preds_df['SalePrice'])\n",
    "sns.distplot(data['SalePrice'], color='red')"
   ]
  },
  {
   "cell_type": "code",
   "execution_count": 15,
   "metadata": {},
   "outputs": [
    {
     "data": {
      "text/plain": [
       "(           SalePrice\n",
       " count  1459.000000  \n",
       " mean   178988.361136\n",
       " std    78967.073209 \n",
       " min    40632.636959 \n",
       " 25%    127667.186082\n",
       " 50%    156953.418610\n",
       " 75%    209538.053982\n",
       " max    784944.405764,\n",
       "            SalePrice\n",
       " count  1458.000000  \n",
       " mean   180932.919067\n",
       " std    79495.055285 \n",
       " min    34900.000000 \n",
       " 25%    129925.000000\n",
       " 50%    163000.000000\n",
       " 75%    214000.000000\n",
       " max    755000.000000)"
      ]
     },
     "execution_count": 15,
     "metadata": {},
     "output_type": "execute_result"
    }
   ],
   "source": [
    "preds_df[['SalePrice']].describe(), data[['SalePrice']].describe()"
   ]
  },
  {
   "cell_type": "code",
   "execution_count": null,
   "metadata": {},
   "outputs": [],
   "source": []
  }
 ],
 "metadata": {
  "kernelspec": {
   "display_name": "hpp_venv",
   "language": "python",
   "name": "hpp_venv"
  },
  "language_info": {
   "codemirror_mode": {
    "name": "ipython",
    "version": 3
   },
   "file_extension": ".py",
   "mimetype": "text/x-python",
   "name": "python",
   "nbconvert_exporter": "python",
   "pygments_lexer": "ipython3",
   "version": "3.7.0"
  }
 },
 "nbformat": 4,
 "nbformat_minor": 2
}
