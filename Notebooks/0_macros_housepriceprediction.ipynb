{
 "cells": [
  {
   "cell_type": "code",
   "execution_count": 1,
   "metadata": {},
   "outputs": [],
   "source": [
    "# ---------- Import packages ----------\n",
    "\n",
    "## Data wrangling\n",
    "import pandas as pd\n",
    "import numpy as np\n",
    "import itertools\n",
    "\n",
    "## Geo data\n",
    "import geopandas as gpd\n",
    "import folium\n",
    "#from geopandas import GeoSeries, GeoDataFrame\n",
    "\n",
    "## Plotting\n",
    "import matplotlib.pyplot as plt\n",
    "import seaborn as sns\n",
    "\n",
    "## ML preprocessing\n",
    "from sklearn import preprocessing\n",
    "from sklearn.impute import SimpleImputer\n",
    "from sklearn.preprocessing import OneHotEncoder, StandardScaler, \n",
    "#from statsmodels.stats.outliers_influence import variance_inflation_factor\n",
    "from scipy.special import boxcox, inv_boxcox\n",
    "from scipy import stats\n",
    "\n",
    "## ML models\n",
    "from sklearn.linear_model import LinearRegression, Ridge, Lasso, ElasticNet\n",
    "from sklearn.svm import SVR\n",
    "from sklearn import neighbors\n",
    "from sklearn.ensemble import RandomForestRegressor, GradientBoostingRegressor\n",
    "from sklearn.decomposition import PCA as sklearnPCA\n",
    "\n",
    "## ML performance\n",
    "from sklearn.metrics import mean_squared_error\n",
    "from sklearn.model_selection import KFold, cross_val_score, GridSearchCV, train_test_split\n",
    "from math import sqrt\n",
    "\n",
    "#Other\n",
    "import os\n",
    "\n",
    "#from IPython.display import display, HTML\n",
    "#from time import gmtime, strftime\n",
    "#import os\n",
    "#from itertools import chain\n",
    "# from os import listdir\n",
    "# from os.path import isfile, join"
   ]
  },
  {
   "cell_type": "code",
   "execution_count": 2,
   "metadata": {},
   "outputs": [
    {
     "name": "stdout",
     "output_type": "stream",
     "text": [
      "Stored '__RequiredPackages' (Macro)\n"
     ]
    }
   ],
   "source": [
    "%macro -q __RequiredPackages 1\n",
    "%store __RequiredPackages"
   ]
  },
  {
   "cell_type": "code",
   "execution_count": 3,
   "metadata": {},
   "outputs": [
    {
     "name": "stdout",
     "output_type": "stream",
     "text": [
      "Populating the interactive namespace from numpy and matplotlib\n"
     ]
    }
   ],
   "source": [
    "# ---------- Set Jupyter options ----------\n",
    "\n",
    "# Print multiple items in one command\n",
    "from IPython.core.interactiveshell import InteractiveShell\n",
    "InteractiveShell.ast_node_interactivity = \"all\"\n",
    "\n",
    "# Ignore warnings\n",
    "import warnings\n",
    "warnings.filterwarnings('ignore')\n",
    "\n",
    "# Set display options\n",
    "pd.options.display.max_columns = 250\n",
    "pd.options.display.max_rows = 250\n",
    "pd.options.display.max_colwidth = -1\n",
    "\n",
    "# Set plot sizes\n",
    "%pylab inline\n",
    "pylab.rcParams['figure.figsize'] = (20, 12)"
   ]
  },
  {
   "cell_type": "code",
   "execution_count": 4,
   "metadata": {},
   "outputs": [
    {
     "name": "stdout",
     "output_type": "stream",
     "text": [
      "Stored '__JupyterOptions' (Macro)\n"
     ]
    }
   ],
   "source": [
    "%macro -q __JupyterOptions 3\n",
    "%store __JupyterOptions"
   ]
  },
  {
   "cell_type": "code",
   "execution_count": null,
   "metadata": {},
   "outputs": [],
   "source": []
  }
 ],
 "metadata": {
  "kernelspec": {
   "display_name": "hpp_venv",
   "language": "python",
   "name": "hpp_venv"
  },
  "language_info": {
   "codemirror_mode": {
    "name": "ipython",
    "version": 3
   },
   "file_extension": ".py",
   "mimetype": "text/x-python",
   "name": "python",
   "nbconvert_exporter": "python",
   "pygments_lexer": "ipython3",
   "version": "3.7.0"
  }
 },
 "nbformat": 4,
 "nbformat_minor": 2
}
